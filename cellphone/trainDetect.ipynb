{
 "cells": [
  {
   "cell_type": "code",
   "execution_count": 1,
   "id": "6d0f4735",
   "metadata": {},
   "outputs": [],
   "source": [
    "import os"
   ]
  },
  {
   "cell_type": "code",
   "execution_count": 3,
   "id": "a51e00a0",
   "metadata": {},
   "outputs": [],
   "source": [
    "    CUSTOM_MODEL_NAME = \"my_sdd_mobnet\"\n",
    "    PRETRAINED_MODEL_NAME = \"sdd_mobilenet_v2_fpnlite_320x320_coco17_tpu-8\"\n",
    "    PRETRAINED_MODEL_URL = \"http://download.tensorflow.org/models/object_detection/tf2/20200711/sdd_mobilenet_v2_fpnlite_320x320_coco17_tpu-8.tar.gz\"\n",
    "    TF_RECORD_SCRIPT_NAME = \"generate_tfrecord.py\"\n",
    "    LABEL_MAP_NAME = \"label_map/pbtxt\""
   ]
  },
  {
   "cell_type": "code",
   "execution_count": null,
   "id": "fd88540c",
   "metadata": {},
   "outputs": [],
   "source": [
    "path = {\n",
    "    \n",
    "}"
   ]
  }
 ],
 "metadata": {
  "kernelspec": {
   "display_name": "venv",
   "language": "python",
   "name": "venv"
  },
  "language_info": {
   "codemirror_mode": {
    "name": "ipython",
    "version": 3
   },
   "file_extension": ".py",
   "mimetype": "text/x-python",
   "name": "python",
   "nbconvert_exporter": "python",
   "pygments_lexer": "ipython3",
   "version": "3.9.12"
  }
 },
 "nbformat": 4,
 "nbformat_minor": 5
}
