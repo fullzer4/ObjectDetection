{
 "cells": [
  {
   "cell_type": "code",
   "execution_count": 1,
   "id": "7967da92",
   "metadata": {},
   "outputs": [
    {
     "name": "stdout",
     "output_type": "stream",
     "text": [
      "Requirement already satisfied: opencv-python in c:\\users\\yfullzer4\\anaconda3\\lib\\site-packages (4.6.0.66)\n",
      "Requirement already satisfied: numpy>=1.19.3 in c:\\users\\yfullzer4\\anaconda3\\lib\\site-packages (from opencv-python) (1.21.5)\n"
     ]
    }
   ],
   "source": [
    "!pip install opencv-python"
   ]
  },
  {
   "cell_type": "code",
   "execution_count": 2,
   "id": "8207cda1",
   "metadata": {},
   "outputs": [],
   "source": [
    "import cv2\n",
    "import uuid\n",
    "import os\n",
    "import time"
   ]
  },
  {
   "cell_type": "code",
   "execution_count": 14,
   "id": "f04b4517",
   "metadata": {},
   "outputs": [],
   "source": [
    "labels = [\"celular\", \"gabriel\"]\n",
    "number_imgs = 5"
   ]
  },
  {
   "cell_type": "code",
   "execution_count": 15,
   "id": "b072556e",
   "metadata": {},
   "outputs": [],
   "source": [
    "IMAGES_PATH = os.path.join('Tensorflow','workspace','images','collectedimages')"
   ]
  },
  {
   "cell_type": "code",
   "execution_count": 16,
   "id": "215bb7ce",
   "metadata": {},
   "outputs": [
    {
     "data": {
      "text/plain": [
       "'Tensorflow\\\\workspace\\\\images\\\\collectedimages'"
      ]
     },
     "execution_count": 16,
     "metadata": {},
     "output_type": "execute_result"
    }
   ],
   "source": [
    "IMAGES_PATH"
   ]
  },
  {
   "cell_type": "code",
   "execution_count": 17,
   "id": "7eab6888",
   "metadata": {},
   "outputs": [],
   "source": [
    "if not os.path.exists(IMAGES_PATH):\n",
    "    if os.name == 'posix':\n",
    "        !mkdir -p {IMAGES_PATH}\n",
    "    if os.name == 'nt':\n",
    "        !mkdir {IMAGES_PATH}\n",
    "for label in labels:\n",
    "    path = os.path.join(IMAGES_PATH, label)\n",
    "    if not os.path.exists(path):\n",
    "        !mkdir {path}"
   ]
  },
  {
   "cell_type": "code",
   "execution_count": 19,
   "id": "b8b2a979",
   "metadata": {},
   "outputs": [
    {
     "name": "stdout",
     "output_type": "stream",
     "text": [
      "Collecting images for celular\n",
      "Collecting images\n",
      "Collecting images\n",
      "Collecting images\n",
      "Collecting images\n",
      "Collecting images\n",
      "Collecting images for gabriel\n",
      "Collecting images\n",
      "Collecting images\n",
      "Collecting images\n",
      "Collecting images\n",
      "Collecting images\n"
     ]
    }
   ],
   "source": [
    "for label in labels:\n",
    "    cap = cv2.VideoCapture(0)\n",
    "    print(\"Collecting images for {}\".format(label))\n",
    "    time.sleep(5)\n",
    "    for imgnum in range(number_imgs):\n",
    "        print(\"Collecting images\".format(imgnum))\n",
    "        ret, frame = cap.read()\n",
    "        imgname = os.path.join(IMAGES_PATH,label,label+\"\"+\"{}.jpg\".format(str(uuid.uuid1())))\n",
    "        cv2.imwrite(imgname, frame)\n",
    "        cv2.imshow('frame', frame)\n",
    "        time.sleep(2)\n",
    "        \n",
    "        if cv2.waitKey(1) & 0xFF == ord('q'):\n",
    "            break\n",
    "            \n",
    "cap.release()\n",
    "cv2.destroyAllWindows()"
   ]
  },
  {
   "cell_type": "code",
   "execution_count": 21,
   "id": "1ce6cc83",
   "metadata": {},
   "outputs": [
    {
     "name": "stdout",
     "output_type": "stream",
     "text": [
      "Requirement already satisfied: pyqt5 in c:\\users\\yfullzer4\\anaconda3\\lib\\site-packages (5.15.7)\n",
      "Requirement already satisfied: lxml in c:\\users\\yfullzer4\\anaconda3\\lib\\site-packages (4.9.1)\n",
      "Requirement already satisfied: PyQt5-sip<13,>=12.11 in c:\\users\\yfullzer4\\anaconda3\\lib\\site-packages (from pyqt5) (12.11.0)\n",
      "Requirement already satisfied: PyQt5-Qt5>=5.15.0 in c:\\users\\yfullzer4\\anaconda3\\lib\\site-packages (from pyqt5) (5.15.2)\n"
     ]
    }
   ],
   "source": [
    "!pip install --upgrade pyqt5 lxml --user"
   ]
  },
  {
   "cell_type": "code",
   "execution_count": 22,
   "id": "49707029",
   "metadata": {},
   "outputs": [],
   "source": [
    "LABELIMG_PATH = os.path.join('Tensorflow', 'labelimg')"
   ]
  },
  {
   "cell_type": "code",
   "execution_count": 23,
   "id": "066b7ba7",
   "metadata": {
    "scrolled": true
   },
   "outputs": [
    {
     "name": "stderr",
     "output_type": "stream",
     "text": [
      "Cloning into 'Tensorflow\\labelimg'...\n"
     ]
    }
   ],
   "source": [
    "if not os.path.exists(LABELIMG_PATH):\n",
    "    !mkdir {LABELING_PATH}\n",
    "    !git clone https://github.com/tzutalin/labelimg {LABELIMG_PATH}"
   ]
  },
  {
   "cell_type": "code",
   "execution_count": 24,
   "id": "f3bda897",
   "metadata": {},
   "outputs": [
    {
     "data": {
      "text/plain": [
       "'Tensorflow\\\\labelimg'"
      ]
     },
     "execution_count": 24,
     "metadata": {},
     "output_type": "execute_result"
    }
   ],
   "source": [
    "LABELIMG_PATH"
   ]
  },
  {
   "cell_type": "code",
   "execution_count": 25,
   "id": "5e9d0505",
   "metadata": {},
   "outputs": [],
   "source": [
    "if os.name == 'posix':\n",
    "    !cd {LABELIMG_PATH} && make qt5py3\n",
    "if os.name == 'nt':\n",
    "    !cd {LABELIMG_PATH} && pyrcc5 -o libs/resources.py resources.qrc"
   ]
  },
  {
   "cell_type": "code",
   "execution_count": 26,
   "id": "04cb38f5",
   "metadata": {},
   "outputs": [
    {
     "name": "stdout",
     "output_type": "stream",
     "text": [
      "Image:C:\\Users\\yfullzer4\\Documents\\projetosIA\\ObjectDetection\\cellphone\\Tensorflow\\workspace\\images\\collectedimages\\celular\\celularc7b4880a-312e-11ed-ac55-3c7c3f77fd05.jpg -> Annotation:C:/Users/yfullzer4/Documents/projetosIA/ObjectDetection/cellphone/Tensorflow/workspace/images/collectedimages/celular\\celularc7b4880a-312e-11ed-ac55-3c7c3f77fd05.xml\n",
      "Image:C:\\Users\\yfullzer4\\Documents\\projetosIA\\ObjectDetection\\cellphone\\Tensorflow\\workspace\\images\\collectedimages\\celular\\celularc8eb7863-312e-11ed-b273-3c7c3f77fd05.jpg -> Annotation:C:/Users/yfullzer4/Documents/projetosIA/ObjectDetection/cellphone/Tensorflow/workspace/images/collectedimages/celular\\celularc8eb7863-312e-11ed-b273-3c7c3f77fd05.xml\n",
      "Image:C:\\Users\\yfullzer4\\Documents\\projetosIA\\ObjectDetection\\cellphone\\Tensorflow\\workspace\\images\\collectedimages\\celular\\celularca22ec11-312e-11ed-a7c6-3c7c3f77fd05.jpg -> Annotation:C:/Users/yfullzer4/Documents/projetosIA/ObjectDetection/cellphone/Tensorflow/workspace/images/collectedimages/celular\\celularca22ec11-312e-11ed-a7c6-3c7c3f77fd05.xml\n",
      "Image:C:\\Users\\yfullzer4\\Documents\\projetosIA\\ObjectDetection\\cellphone\\Tensorflow\\workspace\\images\\collectedimages\\celular\\celularcb5950ec-312e-11ed-8832-3c7c3f77fd05.jpg -> Annotation:C:/Users/yfullzer4/Documents/projetosIA/ObjectDetection/cellphone/Tensorflow/workspace/images/collectedimages/celular\\celularcb5950ec-312e-11ed-8832-3c7c3f77fd05.xml\n",
      "Image:C:\\Users\\yfullzer4\\Documents\\projetosIA\\ObjectDetection\\cellphone\\Tensorflow\\workspace\\images\\collectedimages\\celular\\celularcc8e9e7c-312e-11ed-a49e-3c7c3f77fd05.jpg -> Annotation:C:/Users/yfullzer4/Documents/projetosIA/ObjectDetection/cellphone/Tensorflow/workspace/images/collectedimages/celular\\celularcc8e9e7c-312e-11ed-a49e-3c7c3f77fd05.xml\n",
      "Image:C:\\Users\\yfullzer4\\Documents\\projetosIA\\ObjectDetection\\cellphone\\Tensorflow\\workspace\\images\\collectedimages\\gabriel\\gabrield8bcccd7-312e-11ed-bf5c-3c7c3f77fd05.jpg -> Annotation:C:/Users/yfullzer4/Documents/projetosIA/ObjectDetection/cellphone/Tensorflow/workspace/images/collectedimages/gabriel\\gabrield8bcccd7-312e-11ed-bf5c-3c7c3f77fd05.xml\n",
      "Image:C:\\Users\\yfullzer4\\Documents\\projetosIA\\ObjectDetection\\cellphone\\Tensorflow\\workspace\\images\\collectedimages\\gabriel\\gabrield9f3aaf6-312e-11ed-bd65-3c7c3f77fd05.jpg -> Annotation:C:/Users/yfullzer4/Documents/projetosIA/ObjectDetection/cellphone/Tensorflow/workspace/images/collectedimages/gabriel\\gabrield9f3aaf6-312e-11ed-bd65-3c7c3f77fd05.xml\n",
      "Image:C:\\Users\\yfullzer4\\Documents\\projetosIA\\ObjectDetection\\cellphone\\Tensorflow\\workspace\\images\\collectedimages\\gabriel\\gabrield64feead-312e-11ed-905a-3c7c3f77fd05.jpg -> Annotation:C:/Users/yfullzer4/Documents/projetosIA/ObjectDetection/cellphone/Tensorflow/workspace/images/collectedimages/gabriel\\gabrield64feead-312e-11ed-905a-3c7c3f77fd05.xml\n",
      "Image:C:\\Users\\yfullzer4\\Documents\\projetosIA\\ObjectDetection\\cellphone\\Tensorflow\\workspace\\images\\collectedimages\\gabriel\\gabrield7868780-312e-11ed-9e2e-3c7c3f77fd05.jpg -> Annotation:C:/Users/yfullzer4/Documents/projetosIA/ObjectDetection/cellphone/Tensorflow/workspace/images/collectedimages/gabriel\\gabrield7868780-312e-11ed-9e2e-3c7c3f77fd05.xml\n",
      "Image:C:\\Users\\yfullzer4\\Documents\\projetosIA\\ObjectDetection\\cellphone\\Tensorflow\\workspace\\images\\collectedimages\\gabriel\\gabrieldb2976b2-312e-11ed-bab2-3c7c3f77fd05.jpg -> Annotation:C:/Users/yfullzer4/Documents/projetosIA/ObjectDetection/cellphone/Tensorflow/workspace/images/collectedimages/gabriel\\gabrieldb2976b2-312e-11ed-bab2-3c7c3f77fd05.xml\n"
     ]
    }
   ],
   "source": [
    "!cd {LABELIMG_PATH} && python labelimg.py"
   ]
  },
  {
   "cell_type": "code",
   "execution_count": null,
   "id": "2d81ed90",
   "metadata": {},
   "outputs": [],
   "source": []
  }
 ],
 "metadata": {
  "kernelspec": {
   "display_name": "venv",
   "language": "python",
   "name": "venv"
  },
  "language_info": {
   "codemirror_mode": {
    "name": "ipython",
    "version": 3
   },
   "file_extension": ".py",
   "mimetype": "text/x-python",
   "name": "python",
   "nbconvert_exporter": "python",
   "pygments_lexer": "ipython3",
   "version": "3.9.12"
  }
 },
 "nbformat": 4,
 "nbformat_minor": 5
}
